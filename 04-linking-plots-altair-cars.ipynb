{
 "cells": [
  {
   "cell_type": "code",
   "execution_count": null,
   "metadata": {},
   "outputs": [],
   "source": [
    "import altair as alt\n",
    "from vega_datasets import data"
   ]
  },
  {
   "cell_type": "code",
   "execution_count": null,
   "metadata": {},
   "outputs": [],
   "source": [
    "cars = data.cars()"
   ]
  },
  {
   "cell_type": "code",
   "execution_count": null,
   "metadata": {},
   "outputs": [],
   "source": [
    "cars"
   ]
  },
  {
   "cell_type": "code",
   "execution_count": null,
   "metadata": {},
   "outputs": [],
   "source": [
    "points = alt.Chart(cars).mark_point().encode(\n",
    "    x='Horsepower',\n",
    "    y='Miles_per_Gallon',\n",
    "    color='Origin'\n",
    ")\n",
    "points"
   ]
  },
  {
   "cell_type": "code",
   "execution_count": null,
   "metadata": {},
   "outputs": [],
   "source": [
    "bars = alt.Chart(cars).mark_bar().encode(\n",
    "    x='count(Origin)',\n",
    "    y='Origin',\n",
    "    color='Origin'\n",
    ")\n",
    "bars"
   ]
  },
  {
   "cell_type": "code",
   "execution_count": null,
   "metadata": {},
   "outputs": [],
   "source": [
    "points & bars"
   ]
  },
  {
   "cell_type": "code",
   "execution_count": null,
   "metadata": {},
   "outputs": [],
   "source": [
    "my_si = alt.selection_interval()"
   ]
  },
  {
   "cell_type": "code",
   "execution_count": null,
   "metadata": {},
   "outputs": [],
   "source": [
    "points = alt.Chart(cars).mark_point().encode(\n",
    "    x='Horsepower',\n",
    "    y='Miles_per_Gallon',\n",
    "    color='Origin'\n",
    ").add_selection(\n",
    "    my_si\n",
    ")\n",
    "\n",
    "bars = alt.Chart(cars).mark_bar().encode(\n",
    "    x='count(Origin)',\n",
    "    y='Origin',\n",
    "    color='Origin'\n",
    ").transform_filter(\n",
    "    my_si\n",
    ")\n",
    "\n",
    "points & bars"
   ]
  },
  {
   "cell_type": "code",
   "execution_count": null,
   "metadata": {},
   "outputs": [],
   "source": [
    "points = alt.Chart(cars).mark_point().encode(\n",
    "    x='Horsepower',\n",
    "    y='Miles_per_Gallon',\n",
    "    color=alt.condition(my_si, 'Origin', alt.value('lightgray'))\n",
    ").add_selection(\n",
    "    my_si\n",
    ")\n",
    "\n",
    "bars = alt.Chart(cars).mark_bar().encode(\n",
    "    x='count(Origin)',\n",
    "    y='Origin',\n",
    "    color='Origin'\n",
    ").transform_filter(\n",
    "    my_si\n",
    ")\n",
    "\n",
    "points & bars"
   ]
  },
  {
   "cell_type": "code",
   "execution_count": null,
   "metadata": {},
   "outputs": [],
   "source": [
    "ranked_text = alt.Chart(cars).mark_text().encode(\n",
    "    y=alt.Y('row_number:O',axis=None)\n",
    ").transform_window(\n",
    "    row_number='row_number()'\n",
    ").transform_window(\n",
    "    rank='rank(row_number)'\n",
    ").transform_filter(\n",
    "    alt.datum.rank<20\n",
    ")\n",
    "ranked_text.encode(text='Horsepower')"
   ]
  },
  {
   "cell_type": "code",
   "execution_count": null,
   "metadata": {
    "scrolled": false
   },
   "outputs": [],
   "source": [
    "points = alt.Chart(cars).mark_point().encode(\n",
    "    x='Horsepower',\n",
    "    y='Miles_per_Gallon',\n",
    "    color=alt.condition(my_si, 'Origin', alt.value('lightgray'))\n",
    ").add_selection(\n",
    "    my_si\n",
    ")\n",
    "\n",
    "# Base chart for data tables\n",
    "ranked_text = alt.Chart(cars).mark_text().encode(\n",
    "    y=alt.Y('row_number:O',axis=None)\n",
    ").transform_window(\n",
    "    row_number='row_number()'\n",
    ").transform_filter(\n",
    "    my_si\n",
    ").transform_window(\n",
    "    rank='rank(row_number)'\n",
    ").transform_filter(\n",
    "    alt.datum.rank<20\n",
    ")\n",
    "\n",
    "# Data Tables\n",
    "horsepower = ranked_text.encode(text='Horsepower').properties(title='Horsepower')\n",
    "mpg = ranked_text.encode(text='Miles_per_Gallon').properties(title='MPG')\n",
    "name = ranked_text.encode(text='Name').properties(title='Name')\n",
    "text = alt.hconcat(horsepower, mpg, name) # Combine data tables\n",
    "\n",
    "alt.hconcat(\n",
    "    points,\n",
    "    text\n",
    ")"
   ]
  },
  {
   "cell_type": "code",
   "execution_count": null,
   "metadata": {},
   "outputs": [],
   "source": [
    "points = alt.Chart(cars).mark_point().encode(\n",
    "    x='Horsepower',\n",
    "    y='Miles_per_Gallon',\n",
    "    color=alt.condition(my_si, 'Origin', alt.value('lightgray'))\n",
    ").add_selection(\n",
    "    my_si\n",
    ")\n",
    "\n",
    "# Base chart for data tables\n",
    "ranked_text = alt.Chart(cars).mark_text().encode(\n",
    "    y=alt.Y('row_number:O',axis=None)\n",
    ").transform_window(\n",
    "    row_number='row_number()'\n",
    ").transform_filter(\n",
    "    my_si\n",
    ").transform_window(\n",
    "    rank='rank(row_number)'\n",
    ").transform_filter(\n",
    "    alt.datum.rank<20\n",
    ")\n",
    "\n",
    "# Data Tables\n",
    "horsepower = ranked_text.encode(text='Horsepower').properties(title='Horsepower')\n",
    "mpg = ranked_text.encode(text='Miles_per_Gallon').properties(title='MPG')\n",
    "name = ranked_text.encode(text='Name').properties(title='Name')\n",
    "text = alt.hconcat(horsepower, mpg, name) # Combine data tables\n",
    "\n",
    "alt.hconcat(\n",
    "    points & bars,\n",
    "    text\n",
    ")"
   ]
  }
 ],
 "metadata": {
  "kernelspec": {
   "display_name": "Python 3",
   "language": "python",
   "name": "python3"
  },
  "language_info": {
   "codemirror_mode": {
    "name": "ipython",
    "version": 3
   },
   "file_extension": ".py",
   "mimetype": "text/x-python",
   "name": "python",
   "nbconvert_exporter": "python",
   "pygments_lexer": "ipython3",
   "version": "3.7.3"
  }
 },
 "nbformat": 4,
 "nbformat_minor": 2
}
