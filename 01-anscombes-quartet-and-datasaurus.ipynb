{
 "cells": [
  {
   "cell_type": "code",
   "execution_count": null,
   "metadata": {},
   "outputs": [],
   "source": [
    "import matplotlib.pyplot as plt\n",
    "import seaborn as sns\n",
    "sns.set(style=\"ticks\")"
   ]
  },
  {
   "cell_type": "code",
   "execution_count": null,
   "metadata": {},
   "outputs": [],
   "source": [
    "# Load the example dataset for Anscombe's quartet\n",
    "df = sns.load_dataset(\"anscombe\")"
   ]
  },
  {
   "cell_type": "code",
   "execution_count": null,
   "metadata": {},
   "outputs": [],
   "source": [
    "df"
   ]
  },
  {
   "cell_type": "code",
   "execution_count": null,
   "metadata": {},
   "outputs": [],
   "source": [
    "fig, ax = plt.subplots(2,2,figsize=(8,6))\n",
    "ax = ax.ravel()\n",
    "\n",
    "for i,val in enumerate(df.dataset.unique()):\n",
    "    \n",
    "    x = df.loc[df.dataset == val, 'x']\n",
    "    y = df.loc[df.dataset == val, 'y']\n",
    "    \n",
    "    ax[i].plot(x, y, 'ro')\n",
    "    ax[i].set_xlim([0,20])\n",
    "    ax[i].set_ylim([0,15])"
   ]
  },
  {
   "cell_type": "code",
   "execution_count": null,
   "metadata": {},
   "outputs": [],
   "source": [
    "# Show the results of a linear regression within each dataset\n",
    "sns.lmplot(data=df, x=\"x\", y=\"y\",\n",
    "           col=\"dataset\", hue=\"dataset\");"
   ]
  },
  {
   "cell_type": "code",
   "execution_count": null,
   "metadata": {},
   "outputs": [],
   "source": [
    "# Show the results of a linear regression within each dataset\n",
    "sns.lmplot(data=df, x=\"x\", y=\"y\",\n",
    "           col=\"dataset\", hue=\"dataset\",\n",
    "           col_wrap=2, ci=None, \n",
    "           palette=\"muted\", height=4,\n",
    "           scatter_kws={\"s\": 50, \"alpha\": 1})"
   ]
  },
  {
   "cell_type": "code",
   "execution_count": null,
   "metadata": {},
   "outputs": [],
   "source": [
    "from sklearn.linear_model import LinearRegression\n",
    "import numpy as np"
   ]
  },
  {
   "cell_type": "code",
   "execution_count": null,
   "metadata": {},
   "outputs": [],
   "source": [
    "# the data we want to model, in column vector form\n",
    "x = df.loc[df.dataset == 'I', 'x'].values.reshape(-1, 1)\n",
    "y = df.loc[df.dataset == 'I', 'y'].values.reshape(-1, 1)\n",
    "\n",
    "# modeling a best-fit line\n",
    "model = LinearRegression()\n",
    "model.fit(x, y)\n",
    "\n",
    "# make new data for a line\n",
    "x_new = np.linspace(0, 20, 100).reshape(-1, 1)\n",
    "y_new = model.predict(x_new)\n",
    "\n",
    "# plot the results\n",
    "fig, ax = plt.subplots(figsize=(4, 3))\n",
    "ax.scatter(x, y)\n",
    "ax.plot(x_new, y_new)\n",
    "ax.set_xlabel('x')\n",
    "ax.set_ylabel('y')\n",
    "ax.set_xlim([0,20])\n",
    "ax.set_ylim([0,15])\n",
    "\n",
    "plt.show()"
   ]
  },
  {
   "cell_type": "code",
   "execution_count": null,
   "metadata": {},
   "outputs": [],
   "source": [
    "fig, ax = plt.subplots(2,2,figsize=(8, 6))\n",
    "ax = ax.ravel()\n",
    "\n",
    "for i,val in enumerate(df.dataset.unique()):\n",
    "\n",
    "    x = df.loc[df.dataset == val, 'x'].values.reshape(-1, 1)\n",
    "    y = df.loc[df.dataset == val, 'y'].values.reshape(-1, 1)\n",
    "\n",
    "    # modeling a best-fit line\n",
    "    model = LinearRegression()\n",
    "    model.fit(x, y)\n",
    "\n",
    "    # make new data for a line\n",
    "    x_new = np.linspace(0, 20, 100).reshape(-1, 1)\n",
    "    y_new = model.predict(x_new)\n",
    "\n",
    "    # plot the results\n",
    "    ax[i].scatter(x, y)\n",
    "    ax[i].plot(x_new, y_new)\n",
    "    ax[i].set_xlabel('x')\n",
    "    ax[i].set_ylabel('y')\n",
    "    ax[i].set_xlim([0,20])\n",
    "    ax[i].set_ylim([0,15])\n",
    "\n",
    "plt.tight_layout()\n",
    "plt.show()"
   ]
  },
  {
   "cell_type": "code",
   "execution_count": null,
   "metadata": {},
   "outputs": [],
   "source": [
    "import ipywidgets\n",
    "from sklearn.metrics import mean_squared_error, r2_score"
   ]
  },
  {
   "cell_type": "code",
   "execution_count": null,
   "metadata": {},
   "outputs": [],
   "source": [
    "def findline(dataset='I'):\n",
    "    \n",
    "    fig, ax = plt.subplots(figsize=(5, 5))\n",
    "\n",
    "    x = df.loc[df.dataset == dataset, 'x'].values.reshape(-1, 1)\n",
    "    y = df.loc[df.dataset == dataset, 'y'].values.reshape(-1, 1)\n",
    "\n",
    "    if dataset == 'IV':\n",
    "        y[:] = 3 + 0.5*x[:]\n",
    "        \n",
    "    # modeling a best-fit line\n",
    "    model = LinearRegression()\n",
    "    model.fit(x, y)\n",
    "\n",
    "    # make new data for a line\n",
    "    x_new = np.linspace(0, 20, 100).reshape(-1, 1)\n",
    "    y_new = model.predict(x_new)\n",
    "\n",
    "    y_pred = model.predict(x)\n",
    "    print('The coefficients of the line are: %.2f, %.2f' % (model.coef_, model.intercept_))\n",
    "    print('Mean squared error: %.2f' % mean_squared_error(y, y_pred))\n",
    "    print('R^2: %.2f' % r2_score(y, y_pred))\n",
    "    \n",
    "    # plot the results\n",
    "    ax.scatter(x, y)\n",
    "    ax.plot(x_new, y_new)\n",
    "    ax.set_xlabel('x')\n",
    "    ax.set_ylabel('y')\n",
    "    ax.set_xlim([0,20])\n",
    "    ax.set_ylim([0,15])\n",
    "\n",
    "ipywidgets.interactive(findline, dataset=df.dataset.unique())"
   ]
  },
  {
   "cell_type": "code",
   "execution_count": null,
   "metadata": {},
   "outputs": [],
   "source": [
    "from IPython.display import clear_output\n",
    "out = ipywidgets.Output()\n",
    "\n",
    "def findline(dataset='I'):\n",
    "    \n",
    "    with out:\n",
    "        clear_output(wait=True)\n",
    "    \n",
    "        #fig, ax = plt.subplots(figsize=(5, 5))\n",
    "\n",
    "        x = df.loc[df.dataset == dataset, 'x'].values.reshape(-1, 1)\n",
    "        y = df.loc[df.dataset == dataset, 'y'].values.reshape(-1, 1)\n",
    "\n",
    "        if dataset == 'IV':\n",
    "            y[:] = 3 + 0.5*x[:]\n",
    "\n",
    "        # modeling a best-fit line\n",
    "        model = LinearRegression()\n",
    "        model.fit(x, y)\n",
    "\n",
    "        # make new data for a line\n",
    "        x_new = np.linspace(0, 20, 100).reshape(-1, 1)\n",
    "        y_new = model.predict(x_new)\n",
    "\n",
    "        y_pred = model.predict(x)\n",
    "        print('The coefficients of the line are: %.2f, %.2f' % (model.coef_, model.intercept_))\n",
    "        print('Mean squared error: %.2f' % mean_squared_error(y, y_pred))\n",
    "        print('R^2: %.2f' % r2_score(y, y_pred))\n",
    "\n",
    "        # plot the results\n",
    "    #     ax.scatter(x, y)\n",
    "    #     ax.plot(x_new, y_new)\n",
    "    #     ax.set_xlabel('x')\n",
    "    #     ax.set_ylabel('y')\n",
    "\n",
    "        x = sns.jointplot(data=df[df.dataset == dataset], x='x', y='y')\n",
    "        ax = x.ax_joint\n",
    "        ax.set_xlim([0,20])\n",
    "        ax.set_ylim([0,15])\n",
    "\n",
    "        ax.plot(x_new,y_new)\n",
    "    \n",
    "ipywidgets.interactive(findline, dataset=df.dataset.unique())"
   ]
  },
  {
   "cell_type": "code",
   "execution_count": null,
   "metadata": {},
   "outputs": [],
   "source": [
    "import pandas as pd"
   ]
  },
  {
   "cell_type": "code",
   "execution_count": null,
   "metadata": {},
   "outputs": [],
   "source": [
    "dinodf = pd.read_csv('data/DatasaurusDozen.tsv',sep='\\t')"
   ]
  },
  {
   "cell_type": "code",
   "execution_count": null,
   "metadata": {},
   "outputs": [],
   "source": [
    "dinodf"
   ]
  },
  {
   "cell_type": "code",
   "execution_count": null,
   "metadata": {},
   "outputs": [],
   "source": [
    "plt.figure(figsize=(5,5))\n",
    "sns.scatterplot(data=dinodf[dinodf.dataset=='dino'], x='x', y='y');"
   ]
  },
  {
   "cell_type": "code",
   "execution_count": null,
   "metadata": {},
   "outputs": [],
   "source": [
    "out = ipywidgets.Output()\n",
    "def snsdino(dataset='dino'):\n",
    "\n",
    "    with out:\n",
    "        clear_output(wait=True)\n",
    "\n",
    "        g = sns.jointplot(data=dinodf[dinodf.dataset==dataset], x='x', y='y', marginal_kws=dict(bins=15))\n",
    "        x = dinodf.loc[dinodf.dataset==dataset,'x'].values\n",
    "        y = dinodf.loc[dinodf.dataset==dataset,'y'].values\n",
    "        xmean = x.mean()\n",
    "        ymean = y.mean()\n",
    "        xstd = x.std()\n",
    "        ystd = y.std()\n",
    "        corr = np.corrcoef(x,y)[0,1]\n",
    "        msg = '''\n",
    "        X Mean: {:.2f}\n",
    "        Y Mean: {:.2f}\n",
    "        X StdDev: {:.2f}\n",
    "        Y StdDev: {:.2f}\n",
    "        Corr: {:.2f}'''.format(xmean,ymean,xstd,ystd,corr)\n",
    "\n",
    "        ax = g.ax_joint\n",
    "        plt.text(1.0, 0.5, msg, fontsize=14, transform=plt.gcf().transFigure)\n",
    "\n",
    "ipywidgets.interactive(snsdino, dataset = dinodf.dataset.unique())"
   ]
  }
 ],
 "metadata": {
  "kernelspec": {
   "display_name": "Python 3",
   "language": "python",
   "name": "python3"
  },
  "language_info": {
   "codemirror_mode": {
    "name": "ipython",
    "version": 3
   },
   "file_extension": ".py",
   "mimetype": "text/x-python",
   "name": "python",
   "nbconvert_exporter": "python",
   "pygments_lexer": "ipython3",
   "version": "3.7.3"
  }
 },
 "nbformat": 4,
 "nbformat_minor": 2
}
