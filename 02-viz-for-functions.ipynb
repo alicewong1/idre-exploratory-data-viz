{
 "cells": [
  {
   "cell_type": "markdown",
   "metadata": {},
   "source": [
    "# Conceptualizing the variation of functions with parameters"
   ]
  },
  {
   "cell_type": "markdown",
   "metadata": {},
   "source": [
    "In many fields, it is important to understand the behavior of mathematical functions.\n",
    "\n",
    "One of the simplest mathematical relationships is to say that one quantity is proportional to another.\n",
    "\n",
    "Let's start simple with visualizing how $f(x) = ax + b$ changes depending on $a$ and $b$."
   ]
  },
  {
   "cell_type": "code",
   "execution_count": 25,
   "metadata": {},
   "outputs": [],
   "source": [
    "import matplotlib as mpl\n",
    "import matplotlib.pyplot as plt\n",
    "import numpy as np\n",
    "from ipywidgets import interactive"
   ]
  },
  {
   "cell_type": "code",
   "execution_count": 20,
   "metadata": {},
   "outputs": [
    {
     "data": {
      "image/png": "[encoded data removed]",
      "text/plain": [
       "<Figure size 432x288 with 1 Axes>"
      ]
     },
     "metadata": {
      "needs_background": "light"
     },
     "output_type": "display_data"
    }
   ],
   "source": [
    "x = np.linspace(-10,10,100)\n",
    "y = 0.5*x + 3\n",
    "\n",
    "fig,ax = plt.subplots()\n",
    "ax.plot(x,y,'k-')\n",
    "ax.set_xlim([-10, 10])\n",
    "ax.set_ylim([-10, 10])\n",
    "plt.grid()"
   ]
  },
  {
   "cell_type": "code",
   "execution_count": 21,
   "metadata": {},
   "outputs": [
    {
     "data": {
      "application/vnd.jupyter.widget-view+json": {
       "model_id": "15c1e3ee40644dcca9766204864909cc",
       "version_major": 2,
       "version_minor": 0
      },
      "text/plain": [
       "interactive(children=(IntSlider(value=0, description='a', max=10, min=-10), IntSlider(value=0, description='b'…"
      ]
     },
     "metadata": {},
     "output_type": "display_data"
    }
   ],
   "source": [
    "def line(a,b):\n",
    "    x = np.linspace(-10,10,100)\n",
    "    y = a*x + b\n",
    "\n",
    "    fig,ax = plt.subplots()\n",
    "    ax.plot(x,y,'k-')\n",
    "    ax.set_xlim([-10, 10])\n",
    "    ax.set_ylim([-10, 10])\n",
    "    plt.grid()\n",
    "interactive(line,a=(-10,10),b=(-10,10))"
   ]
  },
  {
   "cell_type": "code",
   "execution_count": null,
   "metadata": {},
   "outputs": [],
   "source": []
  },
  {
   "cell_type": "markdown",
   "metadata": {},
   "source": [
    "How about conic sections.... anyone remember ellipses and circles?\n",
    "\n",
    "$$\\frac{x^2}{a^2} + \\frac{y^2}{b^2} = 1$$ ($a > 0$ and $b > 0$)"
   ]
  },
  {
   "cell_type": "code",
   "execution_count": 24,
   "metadata": {},
   "outputs": [
    {
     "data": {
      "image/png": "[encoded data removed]",
      "text/plain": [
       "<Figure size 432x288 with 1 Axes>"
      ]
     },
     "metadata": {
      "needs_background": "light"
     },
     "output_type": "display_data"
    }
   ],
   "source": [
    "x = np.linspace(-10, 10, 200)\n",
    "y = np.linspace(-10, 10, 200)\n",
    "x, y = np.meshgrid(x, y)\n",
    "a=2\n",
    "b=2\n",
    "plt.contour(x, y,(x**2/a**2 + y**2/b**2), [1], colors='k')\n",
    "plt.grid()\n",
    "plt.show()"
   ]
  },
  {
   "cell_type": "markdown",
   "metadata": {},
   "source": [
    "Is the above actually a circle?"
   ]
  },
  {
   "cell_type": "code",
   "execution_count": 26,
   "metadata": {},
   "outputs": [
    {
     "data": {
      "image/png": "[encoded data removed]",
      "text/plain": [
       "<Figure size 288x288 with 1 Axes>"
      ]
     },
     "metadata": {
      "needs_background": "light"
     },
     "output_type": "display_data"
    }
   ],
   "source": [
    "x = np.linspace(-10, 10, 200)\n",
    "y = np.linspace(-10, 10, 200)\n",
    "x, y = np.meshgrid(x, y)\n",
    "a=2\n",
    "b=2\n",
    "fig,ax = plt.subplots(figsize=(4,4))\n",
    "plt.contour(x, y,(x**2/a**2 + y**2/b**2), [1], colors='k')\n",
    "plt.grid()\n",
    "plt.show()"
   ]
  },
  {
   "cell_type": "code",
   "execution_count": 29,
   "metadata": {},
   "outputs": [
    {
     "data": {
      "application/vnd.jupyter.widget-view+json": {
       "model_id": "8ffefa46ac4348a2a75d0465911f3f5a",
       "version_major": 2,
       "version_minor": 0
      },
      "text/plain": [
       "interactive(children=(FloatSlider(value=5.05, description='a', max=10.0, min=0.1), FloatSlider(value=5.05, des…"
      ]
     },
     "metadata": {},
     "output_type": "display_data"
    }
   ],
   "source": [
    "def ellipses(a,b):\n",
    "    x = np.linspace(-10, 10, 200)\n",
    "    y = np.linspace(-10, 10, 200)\n",
    "    x, y = np.meshgrid(x, y)\n",
    "    #a=2\n",
    "    #b=2\n",
    "    fig,ax = plt.subplots(figsize=(4,4))\n",
    "    plt.contour(x, y,(x**2/a**2 + y**2/b**2), [1], colors='k')\n",
    "    plt.grid()\n",
    "    plt.show()\n",
    "interactive(ellipses,a=(0.1,10),b=(0.1,10))"
   ]
  },
  {
   "cell_type": "code",
   "execution_count": null,
   "metadata": {},
   "outputs": [],
   "source": []
  },
  {
   "cell_type": "markdown",
   "metadata": {},
   "source": [
    "Okay.... and now it's easy to do hyperbolas too!\n",
    "\n",
    "$$\\frac{x^2}{a^2} - \\frac{y^2}{b^2} = 1$$ ($a > 0$ and $b > 0$)"
   ]
  },
  {
   "cell_type": "code",
   "execution_count": 31,
   "metadata": {},
   "outputs": [
    {
     "data": {
      "application/vnd.jupyter.widget-view+json": {
       "model_id": "2cb83c6ca05e43fb86a3fbe7bd4173b9",
       "version_major": 2,
       "version_minor": 0
      },
      "text/plain": [
       "interactive(children=(FloatSlider(value=5.05, description='a', max=10.0, min=0.1), FloatSlider(value=5.05, des…"
      ]
     },
     "metadata": {},
     "output_type": "display_data"
    }
   ],
   "source": [
    "def ellipses(a,b):\n",
    "    x = np.linspace(-10, 10, 200)\n",
    "    y = np.linspace(-10, 10, 200)\n",
    "    x, y = np.meshgrid(x, y)\n",
    "    #a=2\n",
    "    #b=2\n",
    "    fig,ax = plt.subplots(figsize=(4,4))\n",
    "    plt.contour(x, y,(-x**2/a**2 + y**2/b**2), [1], colors='k')\n",
    "    plt.grid()\n",
    "    plt.show()\n",
    "interactive(ellipses,a=(0.1,10),b=(0.1,10))"
   ]
  },
  {
   "cell_type": "code",
   "execution_count": null,
   "metadata": {},
   "outputs": [],
   "source": []
  },
  {
   "cell_type": "markdown",
   "metadata": {},
   "source": [
    "Now onto something a bit more statistical -- distribution functions.\n",
    "\n",
    "Start off easy with the Gaussian distribution function:\n",
    "\n",
    "$$ f(x) = \\frac{1}{\\sigma\\sqrt{2\\pi}}e^{-\\frac{1}{2}\\left(\\frac{x-\\mu}{\\sigma}\\right)^2} $$"
   ]
  },
  {
   "cell_type": "code",
   "execution_count": 38,
   "metadata": {},
   "outputs": [
    {
     "data": {
      "application/vnd.jupyter.widget-view+json": {
       "model_id": "7636ca0c740f4207bc55837da590ff0a",
       "version_major": 2,
       "version_minor": 0
      },
      "text/plain": [
       "interactive(children=(FloatSlider(value=1.0, description='sigma', max=10.0, min=0.1), IntSlider(value=0, descr…"
      ]
     },
     "metadata": {},
     "output_type": "display_data"
    }
   ],
   "source": [
    "def gaussian(sigma=1,mu=0):\n",
    "    x = np.linspace(-10, 10, 200)\n",
    "    y = 1/sigma/np.sqrt(2*np.pi)*np.exp(-0.5*((x-mu)/sigma)**2)\n",
    "\n",
    "    fig,ax = plt.subplots(figsize=(8,4))\n",
    "    plt.plot(x, y,'k-')\n",
    "    plt.grid()\n",
    "    ax.set_ylim([-0.01,0.5])\n",
    "    plt.show()\n",
    "\n",
    "interactive(gaussian,sigma=(0.1,10),mu=(-10,10))"
   ]
  },
  {
   "cell_type": "code",
   "execution_count": null,
   "metadata": {},
   "outputs": [],
   "source": []
  },
  {
   "cell_type": "markdown",
   "metadata": {},
   "source": [
    "How about straying into other distributions... do you know the behavior of the Poisson distribution?\n",
    "\n",
    "$$f(k;\\lambda) = \\frac{\\lambda^k e^{-\\lambda}}{k!}$$\n",
    "\n",
    "($\\lambda > 0$)"
   ]
  },
  {
   "cell_type": "code",
   "execution_count": 60,
   "metadata": {},
   "outputs": [
    {
     "data": {
      "application/vnd.jupyter.widget-view+json": {
       "model_id": "edc8d41719054df894f7d4c35854ee30",
       "version_major": 2,
       "version_minor": 0
      },
      "text/plain": [
       "interactive(children=(FloatSlider(value=1.0, description='plambda', max=10.0, min=0.1), Output()), _dom_classe…"
      ]
     },
     "metadata": {},
     "output_type": "display_data"
    }
   ],
   "source": [
    "def poisson(plambda=1):\n",
    "    x = np.linspace(0, 10, 11)\n",
    "    y = x.copy()\n",
    "    for i,val in enumerate(x):\n",
    "        y[i] = plambda**val * (np.exp(-plambda)) / np.math.factorial(val)\n",
    "\n",
    "    fig,ax = plt.subplots(figsize=(8,4))\n",
    "    plt.plot(x, y,'ko-')\n",
    "    plt.grid()\n",
    "    ax.set_xlim([0,10])\n",
    "    ax.set_ylim([-0.01,0.4])\n",
    "    plt.show()\n",
    "\n",
    "interactive(poisson,plambda=(0.1,10))"
   ]
  },
  {
   "cell_type": "code",
   "execution_count": null,
   "metadata": {},
   "outputs": [],
   "source": []
  },
  {
   "cell_type": "markdown",
   "metadata": {},
   "source": [
    "Finally, one of relevance to machine learning, the logistic function:\n",
    "\n",
    "$$f(x) = \\frac{1}{1+e^{-k(x-x_0)}}$$"
   ]
  },
  {
   "cell_type": "code",
   "execution_count": 65,
   "metadata": {},
   "outputs": [
    {
     "data": {
      "application/vnd.jupyter.widget-view+json": {
       "model_id": "2c5c922d5524432ebbad9e66f23046fa",
       "version_major": 2,
       "version_minor": 0
      },
      "text/plain": [
       "interactive(children=(IntSlider(value=1, description='k', max=10, min=-10), IntSlider(value=0, description='x0…"
      ]
     },
     "metadata": {},
     "output_type": "display_data"
    }
   ],
   "source": [
    "def logistic(k=1,x0=0):\n",
    "    x = np.linspace(-10, 10, 100)\n",
    "    y = 1 / (1 + np.exp(-k*(x-x0)))\n",
    "    y2 = 0*x + 0.5\n",
    "    \n",
    "    fig,ax = plt.subplots(figsize=(8,4))\n",
    "    plt.plot(x, y,'k-')\n",
    "    plt.plot(x, y2,'b-')\n",
    "    plt.grid()\n",
    "    ax.set_xlim([-10,10])\n",
    "    ax.set_ylim([0.0,1.0])\n",
    "    plt.show()\n",
    "\n",
    "interactive(logistic,k=(-10,10),x0=(-10,10))"
   ]
  },
  {
   "cell_type": "code",
   "execution_count": null,
   "metadata": {},
   "outputs": [],
   "source": []
  }
 ],
 "metadata": {
  "kernelspec": {
   "display_name": "Python 3",
   "language": "python",
   "name": "python3"
  },
  "language_info": {
   "codemirror_mode": {
    "name": "ipython",
    "version": 3
   },
   "file_extension": ".py",
   "mimetype": "text/x-python",
   "name": "python",
   "nbconvert_exporter": "python",
   "pygments_lexer": "ipython3",
   "version": "3.7.3"
  }
 },
 "nbformat": 4,
 "nbformat_minor": 2
}
